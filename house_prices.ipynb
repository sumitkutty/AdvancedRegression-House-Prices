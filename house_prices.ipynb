{
 "cells": [
  {
   "cell_type": "markdown",
   "metadata": {},
   "source": [
    "## House Prices: Advanced Regression"
   ]
  },
  {
   "cell_type": "code",
   "execution_count": 516,
   "metadata": {},
   "outputs": [],
   "source": [
    "import numpy as np\n",
    "import pandas as pd\n",
    "import matplotlib.pyplot as plt\n",
    "import seaborn as sns\n",
    "pd.set_option('display.max_rows',None)\n",
    "from warnings import filterwarnings as w\n",
    "w('ignore')\n",
    "\n",
    "\n",
    "#preprocessing\n",
    "from sklearn.preprocessing import StandardScaler,MinMaxScaler\n",
    "from sklearn.impute import SimpleImputer\n",
    "from datetime import date\n",
    "from sklearn.feature_selection import SelectKBest, chi2\n",
    "\n",
    "#models\n",
    "import sklearn\n",
    "from sklearn.model_selection import cross_val_score, KFold, GridSearchCV, RandomizedSearchCV\n",
    "from sklearn.linear_model import LinearRegression, Lasso, Ridge\n",
    "from sklearn.svm import SVR\n",
    "from sklearn.ensemble import RandomForestRegressor, ExtraTreesRegressor\n",
    "from sklearn.metrics import mean_squared_error, r2_score"
   ]
  },
  {
   "cell_type": "code",
   "execution_count": 517,
   "metadata": {},
   "outputs": [],
   "source": [
    "dataset = pd.read_csv(\"data/train.csv\")\n",
    "data = dataset.copy()\n",
    "\n",
    "test = pd.read_csv(\"data/test.csv\")\n",
    "\n"
   ]
  },
  {
   "cell_type": "code",
   "execution_count": 518,
   "metadata": {},
   "outputs": [
    {
     "name": "stdout",
     "output_type": "stream",
     "text": [
      "Pave    1454\n",
      "Grvl       6\n",
      "Name: Street, dtype: int64\n"
     ]
    }
   ],
   "source": [
    "#MSSubClass:   One-Hot Encode this variable.\n",
    "data['MSSubClass'].value_counts().sort_index()\n",
    "\n",
    "#MSZoning: One hot encode this feature\n",
    "#filling null values for test set only\n",
    "imputer = SimpleImputer(strategy = 'most_frequent')\n",
    "test['MSZoning'] = imputer.fit_transform(np.array(test['MSZoning']).reshape(-1,1))\n",
    "\n",
    "\n",
    "#Street: One-Hot Encode 'Street'\n",
    "print(data['Street'].value_counts())"
   ]
  },
  {
   "cell_type": "markdown",
   "metadata": {},
   "source": [
    "# Handling Null Values"
   ]
  },
  {
   "cell_type": "code",
   "execution_count": 519,
   "metadata": {
    "scrolled": false
   },
   "outputs": [
    {
     "data": {
      "image/png": "[encoded data removed]",
      "text/plain": [
       "<Figure size 432x288 with 1 Axes>"
      ]
     },
     "metadata": {
      "needs_background": "light"
     },
     "output_type": "display_data"
    }
   ],
   "source": [
    "\n",
    "# LotFrontage: \n",
    "data['LotFrontage'].value_counts().sort_index() #110 unique values\n",
    "\n",
    "data['LotFrontage'].hist()\n",
    "plt.show()\n",
    "#As the distribution of 'LotFrontage' is almost normal, we can impute the feature using the mean or median\n",
    "\n",
    "imputer = SimpleImputer(strategy = 'mean')\n",
    "data['LotFrontage'] = imputer.fit_transform(np.array(data['LotFrontage']).reshape(-1,1))\n",
    "test['LotFrontage'] = imputer.transform(np.array(test['LotFrontage']).reshape(-1,1))"
   ]
  },
  {
   "cell_type": "code",
   "execution_count": 520,
   "metadata": {},
   "outputs": [],
   "source": [
    "# Alley: One-Hot Encode\n",
    "#print(data[\"Alley\"].value_counts())\n",
    "\n",
    "data['Alley'].fillna('No Alley Access', inplace = True)\n",
    "test['Alley'].fillna('No Alley Access', inplace = True)\n"
   ]
  },
  {
   "cell_type": "code",
   "execution_count": 521,
   "metadata": {},
   "outputs": [],
   "source": [
    "#Utilities:  Dropping Utilities as there is only one value\n",
    "#train\n",
    "data.drop('Utilities', axis =1, inplace =True)\n",
    "#test\n",
    "test.drop('Utilities', axis = 1, inplace =True)\n"
   ]
  },
  {
   "cell_type": "code",
   "execution_count": 522,
   "metadata": {},
   "outputs": [],
   "source": [
    "#Exterior1st and Exterior2nd: null values\n",
    "\n",
    "#only test set\n",
    "imputer = SimpleImputer(strategy = 'most_frequent')\n",
    "test['Exterior1st'] = imputer.fit_transform(np.array(test['Exterior1st']).reshape(-1,1))\n",
    "test['Exterior2nd'] = imputer.fit_transform(np.array(test['Exterior2nd']).reshape(-1,1))\n",
    "\n",
    "#MasVnrType: null values\n",
    "#train\n",
    "data['MasVnrType'] = imputer.fit_transform(np.array(data['MasVnrType']).reshape(-1,1))\n",
    "#test\n",
    "test['MasVnrType'] = imputer.transform(np.array(test['MasVnrType']).reshape(-1,1))"
   ]
  },
  {
   "cell_type": "code",
   "execution_count": 523,
   "metadata": {
    "scrolled": false
   },
   "outputs": [],
   "source": [
    "#MasVnrArea: handling null values\n",
    "imputer = SimpleImputer(strategy = 'mean')\n",
    "#distribution\n",
    "#plt.figure(figsize  = (6,6))\n",
    "#data['MasVnrArea'].hist()\n",
    "#plt.axvline(data['MasVnrArea'].mean())\n",
    "#plt.show()\n",
    "\n",
    "#train\n",
    "data['MasVnrArea'] = imputer.fit_transform(np.array(data['MasVnrArea']).reshape(-1,1))\n",
    "#test\n",
    "test['MasVnrArea'] =  imputer.transform(np.array(test['MasVnrArea']).reshape(-1,1))"
   ]
  },
  {
   "cell_type": "code",
   "execution_count": 524,
   "metadata": {},
   "outputs": [],
   "source": [
    "#ExterQual and ExterCond\n",
    "#Feature Engineer the values into integers \n",
    "\n",
    "#train\n",
    "data['ExterQual'] = data['ExterQual'].apply(lambda x: 5 if x=='Ex' \n",
    "                                            else 4 if x=='Gd' else 3 if x=='TA' else 2 if x=='Fa' else 1 if x=='Po' else 0)\n",
    "data['ExterCond'] = data['ExterCond'].apply(lambda x: 5 if x=='Ex' \n",
    "                                            else 4 if x=='Gd' else 3 if x=='TA' else 2 if x=='Fa' else 1 if x=='Po' else 0)\n",
    "\n",
    "\n",
    "#test\n",
    "test['ExterQual'] = test['ExterQual'].apply(lambda x: 5 if x=='Ex' \n",
    "                                            else 4 if x=='Gd' else 3 if x=='TA' else 2 if x=='Fa' else 1 if x=='Po' else 0)\n",
    "test['ExterCond'] = test['ExterCond'].apply(lambda x: 5 if x=='Ex' \n",
    "                                            else 4 if x=='Gd' else 3 if x=='TA' else 2 if x=='Fa' else 1 if x=='Po' else 0)\n",
    "\n",
    "\n"
   ]
  },
  {
   "cell_type": "code",
   "execution_count": 525,
   "metadata": {},
   "outputs": [],
   "source": [
    "#BsmtQual and BsmtCond\n",
    "#handle null and feature engineer ranks\n",
    "\n",
    "#train\n",
    "data['BsmtQual'] = data['BsmtQual'].apply(lambda x: 5 if x=='Ex' else 4 if x=='Gd' else 3 if x=='TA' \n",
    "                                          else 2 if x=='Fa' else 1 if x=='Po' else 0)\n",
    "data['BsmtCond'] = data['BsmtCond'].apply(lambda x: 5 if x=='Ex' else 4 if x=='Gd' else 3 if x=='TA' \n",
    "                                          else 2 if x=='Fa' else 1 if x=='Po' else 0)\n",
    "\n",
    "#test\n",
    "test['BsmtQual'] = test['BsmtQual'].apply(lambda x: 5 if x=='Ex' else 4 if x=='Gd' else 3 if x=='TA' \n",
    "                                          else 2 if x=='Fa' else 1 if x=='Po' else 0)\n",
    "test['BsmtCond'] = test['BsmtCond'].apply(lambda x: 5 if x=='Ex' else 4 if x=='Gd' else 3 if x=='TA' \n",
    "                                          else 2 if x=='Fa' else 1 if x=='Po' else 0)\n",
    "\n",
    "\n",
    "# BsmtExposure \n",
    "data['BsmtExposure'] = data['BsmtExposure'].apply(lambda x: 4 if x=='Gd' else 3 if x=='Av' else 2 if x=='Mn' \n",
    "                                          else 1 if x=='No' else 0)\n",
    "\n",
    "test['BsmtExposure'] = test['BsmtExposure'].apply(lambda x: 4 if x=='Gd' else 3 if x=='Av' else 2 if x=='Mn' \n",
    "                                          else 1 if x=='No' else 0)\n",
    "\n",
    "\n",
    "# BsmtFinType1\n",
    "data['BsmtFinType1'] = data['BsmtFinType1'].apply(lambda x: 6 if x=='GLQ' else 5 if x=='ALQ' else 4 if x=='BLQ' \n",
    "                                          else 3 if x=='Rec' else 2 if x=='LwQ' else 1 if x=='Unf ' else 0)\n",
    "\n",
    "test['BsmtFinType1'] = test['BsmtFinType1'].apply(lambda x: 6 if x=='GLQ' else 5 if x=='ALQ' else 4 if x=='BLQ' \n",
    "                                          else 3 if x=='Rec' else 2 if x=='LwQ' else 1 if x=='Unf ' else 0)\n",
    "\n",
    "\n",
    "                "
   ]
  },
  {
   "cell_type": "code",
   "execution_count": 526,
   "metadata": {},
   "outputs": [],
   "source": [
    "#BsmtFinSF1: one null value\n",
    "#only test\n",
    "imputer = SimpleImputer(strategy = 'mean')\n",
    "test['BsmtFinSF1'] = imputer.fit_transform(np.array(test['BsmtFinSF1']).reshape(-1,1))\n",
    "\n",
    "\n",
    "# BsmtFinType2\n",
    "#train\n",
    "data['BsmtFinType2'] = data['BsmtFinType2'].apply(lambda x: 6 if x=='GLQ' else 5 if x=='ALQ' else 4 if x=='BLQ' \n",
    "                                          else 3 if x=='Rec' else 2 if x=='LwQ' else 1 if x=='Unf ' else 0)\n",
    "#test\n",
    "test['BsmtFinType2'] = test['BsmtFinType2'].apply(lambda x: 6 if x=='GLQ' else 5 if x=='ALQ' else 4 if x=='BLQ' \n",
    "                                          else 3 if x=='Rec' else 2 if x=='LwQ' else 1 if x=='Unf ' else 0)\n",
    "\n",
    "\n",
    "\n",
    "# BsmtFinSF2 \n",
    "#only test\n",
    "test['BsmtFinSF2'] = imputer.fit_transform(np.array(test['BsmtFinSF2']).reshape(-1,1))\n",
    "\n",
    "\n",
    "# BsmtUnfSF: handle null values: 1 null\n",
    "#only test\n",
    "test['BsmtUnfSF'] = imputer.fit_transform(np.array(test['BsmtUnfSF']).reshape(-1,1))\n",
    "\n",
    "\n",
    "\n",
    "# TotalBsmtSF: handle null values: 1 null\n",
    "#only test\n",
    "test['TotalBsmtSF'] = imputer.fit_transform(np.array(test['TotalBsmtSF']).reshape(-1,1))\n",
    "\n"
   ]
  },
  {
   "cell_type": "code",
   "execution_count": 527,
   "metadata": {},
   "outputs": [],
   "source": [
    "\n",
    "\n",
    "#46th id in test\n",
    "# Electrical: null values handling\n",
    "#only train\n",
    "imputer = SimpleImputer(strategy = 'most_frequent')\n",
    "data['Electrical'] = imputer.fit_transform(np.array(data['Electrical']).reshape(-1,1))\n",
    "\n",
    "\n",
    "\n",
    "# BsmtFullBath: Basement full bathrooms\n",
    "# only test\n",
    "test['BsmtFullBath'] = imputer.fit_transform(np.array(test['BsmtFullBath']).reshape(-1,1)).astype(int)\n",
    "\n",
    "\n",
    "# BsmtHalfBath: Basement half bathrooms\n",
    "test['BsmtHalfBath'] = imputer.fit_transform(np.array(test['BsmtHalfBath']).reshape(-1,1)).astype(int)\n"
   ]
  },
  {
   "cell_type": "code",
   "execution_count": 528,
   "metadata": {},
   "outputs": [],
   "source": [
    "# KitchenQual\n",
    "#test only\n",
    "test['KitchenQual'] = imputer.fit_transform(np.array(test['KitchenQual']).reshape(-1,1))\n",
    "\n",
    "#feature engineer 'KitchenQual'\n",
    "data['KitchenQual'] = data['KitchenQual'].apply(lambda x: 5 if x=='Ex' else 4 if x=='Gd' else 3 if x=='TA' \n",
    "                                                else 2 if x=='Fa' else 1 if x=='Po' else 0)\n",
    "test['KitchenQual'] = test ['KitchenQual'].apply(lambda x: 5 if x=='Ex' else 4 if x=='Gd' else 3 if x=='TA' \n",
    "                                                else 2 if x=='Fa' else 1 if x=='Po' else 0)\n",
    "\n",
    "# Functional\n",
    "test['Functional'] = imputer.fit_transform(np.array(test['Functional']).reshape(-1,1))\n",
    "\n",
    "    \n",
    "# FireplaceQu\n",
    "#train\n",
    "data['FireplaceQu'] = data['FireplaceQu'].apply(lambda x: 5 if x=='Ex' else 4 if x=='Gd' else 3 if x=='TA' \n",
    "                                                else 2 if x=='Fa' else 1 if x=='Po' else 0)\n",
    "test['FireplaceQu'] = test['FireplaceQu'].apply(lambda x: 5 if x=='Ex' else 4 if x=='Gd' else 3 if x=='TA' \n",
    "                                                else 2 if x=='Fa' else 1 if x=='Po' else 0)\n",
    "\n",
    "    "
   ]
  },
  {
   "cell_type": "code",
   "execution_count": 529,
   "metadata": {},
   "outputs": [],
   "source": [
    "#GarageType: one hot encode\n",
    "#train\n",
    "data['GarageType'].fillna('No Garage', inplace = True)\n",
    "test['GarageType'].fillna('No Garage', inplace = True)\n",
    "\n",
    "\n",
    "#GarageYrBlt: handle null values\n",
    "data['GarageYrBlt'].fillna(date.today().year, inplace = True)\n",
    "test['GarageYrBlt'].fillna(date.today().year, inplace = True)\n",
    "\n",
    "#feature engineer it to make 'GarageAge'\n",
    "data['GarageAge'] = data['GarageYrBlt'].apply(lambda x: int(date.today().year-x))\n",
    "test['GarageAge'] = test['GarageYrBlt'].apply(lambda x: int(date.today().year-x))\n",
    "data.drop('GarageYrBlt', axis = 1, inplace =True)\n",
    "test.drop('GarageYrBlt', axis = 1, inplace =True)\n",
    "\n",
    "\n",
    "#GarageFinish: handle null values: put 0\n",
    "data['GarageFinish'] = data['GarageFinish'].apply(lambda x: 3 if x=='Fn' else 2 if x=='RFn' \n",
    "                                                  else 1 if x=='Ufn' else 0)\n",
    "test['GarageFinish'] = test['GarageFinish'].apply(lambda x: 3 if x=='Fn' else 2 if x=='RFn' \n",
    "                                                  else 1 if x=='Ufn' else 0)\n",
    "    \n",
    "    \n",
    "    \n",
    "#GarageCars:\n",
    "#only test\n",
    "\n",
    "test['GarageCars'].fillna(0, inplace = True)\n",
    "test['GarageCars'] = test['GarageCars'].astype(int)\n",
    "\n",
    "#GarageArea\n",
    "#only test\n",
    "imputer = SimpleImputer(strategy = 'mean')\n",
    "test['GarageArea'] = imputer.fit_transform(np.array(test['GarageArea']).reshape(-1,1))\n",
    "\n",
    "\n",
    "#GarageQual and GarageCond:\n",
    "#train\n",
    "data['GarageQual'] = data['GarageQual'].apply(lambda x: 5 if x=='Ex' else 4 if x=='Gd' else 3 if x=='TA' \n",
    "                                                else 2 if x=='Fa' else 1 if x=='Po' else 0)\n",
    "data['GarageCond'] = data['GarageCond'].apply(lambda x: 5 if x=='Ex' else 4 if x=='Gd' else 3 if x=='TA' \n",
    "                                                else 2 if x=='Fa' else 1 if x=='Po' else 0)\n",
    "\n",
    "#test\n",
    "test['GarageQual'] = test['GarageQual'].apply(lambda x: 5 if x=='Ex' else 4 if x=='Gd' else 3 if x=='TA' \n",
    "                                                else 2 if x=='Fa' else 1 if x=='Po' else 0)\n",
    "test['GarageCond'] = test['GarageCond'].apply(lambda x: 5 if x=='Ex' else 4 if x=='Gd' else 3 if x=='TA' \n",
    "                                                else 2 if x=='Fa' else 1 if x=='Po' else 0)\n"
   ]
  },
  {
   "cell_type": "code",
   "execution_count": 530,
   "metadata": {},
   "outputs": [],
   "source": [
    "#PoolQC : handle null values: put 0\n",
    "\n",
    "#train\n",
    "data['PoolQC'] = data['PoolQC'].apply(lambda x: 4 if x=='Ex' else 3 if x=='Gd' else 2 if x=='TA' \n",
    "                                      else 1 if x=='Fa' else 0)\n",
    "#test\n",
    "test['PoolQC'] = test['PoolQC'].apply(lambda x: 4 if x=='Ex' else 3 if x=='Gd' else 2 if x=='TA' \n",
    "                                      else 1 if x=='Fa' else 0)\n",
    "\n",
    "\n",
    "# HeatingQC: feature engineer by adding labels\n",
    "data['HeatingQC'] = data['HeatingQC'].apply(lambda x: 5 if x=='Ex' else 4 if x=='Gd' else 3 if x=='TA' \n",
    "                                                else 2 if x=='Fa' else 1 if x=='Po' else 0)\n",
    "test['HeatingQC'] = test['HeatingQC'].apply(lambda x: 5 if x=='Ex' else 4 if x=='Gd' else 3 if x=='TA' \n",
    "                                                else 2 if x=='Fa' else 1 if x=='Po' else 0)\n",
    "\n",
    "\n",
    "# Fence : fill null values with 'No fence'\n",
    "data['Fence'].fillna('No Fence', inplace =True)\n",
    "test['Fence'].fillna('No Fence', inplace =True)\n",
    "\n",
    "\n",
    "# MiscFeature\n",
    "#train\n",
    "data['MiscFeature'].fillna('None', inplace = True)\n",
    "test['MiscFeature'].fillna('None', inplace = True)\n",
    "\n",
    "\n",
    "\n",
    "# SaleType \n",
    "#only test\n",
    "imputer = SimpleImputer(strategy = 'most_frequent')\n",
    "test['SaleType'] = imputer.fit_transform(np.array(test['SaleType']).reshape(-1,1))\n",
    "\n"
   ]
  },
  {
   "cell_type": "code",
   "execution_count": 531,
   "metadata": {},
   "outputs": [],
   "source": [
    "# YrSold:  Sold how many years after buying\n",
    "data['soldafter']  = data.apply(lambda x: int(x['YrSold']-x['YearBuilt']), axis=1)\n",
    "data.drop('YrSold', axis = 1, inplace =True)\n",
    "test['soldafter']  = test.apply(lambda x: int(x['YrSold']-x['YearBuilt']), axis=1)\n",
    "test.drop('YrSold', axis = 1, inplace =True)\n",
    "\n",
    "\n",
    "\n",
    "# YearBuilt: create houseage variable\n",
    "data['houseage']  = data['YearBuilt'].apply(lambda x: int(date.today().year - x))\n",
    "data.drop('YearBuilt', axis=1, inplace =True)\n",
    "test['houseage']  = test['YearBuilt'].apply(lambda x: int(date.today().year - x))\n",
    "test.drop('YearBuilt', axis=1, inplace =True)\n",
    "\n",
    "# YearRemodAdd\n",
    "data['Sinceremod'] = data['YearRemodAdd'].apply(lambda x: int(date.today().year-x))\n",
    "data.drop('YearRemodAdd', axis = 1, inplace =True)\n",
    "test['Sinceremod'] = test['YearRemodAdd'].apply(lambda x: int(date.today().year-x))\n",
    "test.drop('YearRemodAdd', axis = 1, inplace =True)\n",
    "\n",
    "#remoddone: a feature to indicate if remod was done\n",
    "data['remodone?'] = data.apply(lambda x: 0 if x['houseage']==x['Sinceremod'] else 1, axis=1)\n",
    "test['remodone?'] = test.apply(lambda x: 0 if x['houseage']==x['Sinceremod'] else 1, axis=1)\n",
    "\n"
   ]
  },
  {
   "cell_type": "code",
   "execution_count": 532,
   "metadata": {},
   "outputs": [],
   "source": [
    "#Some tweaks to equalize columns of train and test\n",
    "\n",
    "data = data[~data['Condition2'].isin(['RRNn','RRAn','RRAe'])] #these columns not in test\n",
    "test.loc[4,'HouseStyle'] = '2.5Fin' #2.5Fin value not in test['HouseStyle'], so one value is replaced with '2.5Fin'\n",
    "data = data[~data['RoofMatl'].isin(['Roll','ClyTile','Membran','Metal'])] #these columns not in test\n",
    "test.loc[3,'Exterior1st'] = 'Stone' #this value not in test set\n",
    "test.loc[15,'Exterior1st'] = 'ImStucc' #this value not in test set\n",
    "test.loc[22,'Exterior2nd'] = 'Other' #this value not in test set\n",
    "test.loc[11,'Heating'] = 'OthW' #this value not in test set\n",
    "test.loc[15,'Heating'] = 'Floor' #this value not in test set\n",
    "test.loc[9,'Electrical'] = 'Mix' #this value not in test set\n",
    "data = data[data['MiscFeature'] != 'TenC']"
   ]
  },
  {
   "cell_type": "code",
   "execution_count": 533,
   "metadata": {},
   "outputs": [
    {
     "name": "stdout",
     "output_type": "stream",
     "text": [
      "6\n",
      "-----------\n",
      "6\n",
      "---------------------------------------------\n",
      "Normal     1190\n",
      "Partial     124\n",
      "Abnorml     101\n",
      "Family       20\n",
      "Alloca       12\n",
      "AdjLand       4\n",
      "Name: SaleCondition, dtype: int64\n",
      "-----------\n",
      "Normal     1204\n",
      "Partial     120\n",
      "Abnorml      89\n",
      "Family       26\n",
      "Alloca       12\n",
      "AdjLand       8\n",
      "Name: SaleCondition, dtype: int64\n"
     ]
    }
   ],
   "source": [
    "var = 'SaleCondition'\n",
    "print(len(data[var].value_counts()))\n",
    "print(\"-----------\")\n",
    "print(len(test[var].value_counts()))\n",
    "print(\"---------------------------------------------\")\n",
    "print(data[var].value_counts())\n",
    "print(\"-----------\")\n",
    "print(test[var].value_counts())"
   ]
  },
  {
   "cell_type": "code",
   "execution_count": 534,
   "metadata": {},
   "outputs": [],
   "source": [
    "cat_vars = ['MSSubClass','MSZoning','Street','Alley','LotShape','LandContour','LotConfig','LandSlope','Neighborhood',\n",
    "            'Condition1','Condition2','BldgType','HouseStyle','remodone?','RoofStyle','RoofMatl','Exterior1st',\n",
    "            'Exterior2nd','MasVnrType','Foundation','Heating','CentralAir','Electrical','Functional','GarageType',\n",
    "            'PavedDrive','Fence','MiscFeature','SaleType','SaleCondition']\n",
    "       \n",
    "    \n",
    "# Separating categorical and numerical variables   \n",
    "data['MSSubClass'] = data['MSSubClass'].astype(str)\n",
    "test['MSSubClass'] = test['MSSubClass'].astype(str)\n",
    "\n",
    "\n",
    "data_cat = data[cat_vars]\n",
    "data_num = data.drop(cat_vars, axis = 1)\n",
    "data_numy = data_num.copy().drop('Id', axis = 1)\n",
    "data_num.drop(['SalePrice','Id'], axis=1, inplace = True)\n",
    "\n",
    "\n",
    "num_vars = data_num.columns #names of all numerical features\n",
    "\n",
    "test_cat = test[cat_vars]\n",
    "test_num = test.drop(cat_vars, axis = 1)\n",
    "test_num.drop('Id', axis = 1, inplace = True)\n",
    "\n"
   ]
  },
  {
   "cell_type": "code",
   "execution_count": 535,
   "metadata": {},
   "outputs": [],
   "source": [
    "# declare a standardscaler for the 'Target'\n",
    "ytrain = data['SalePrice']\n",
    "target_scaler = MinMaxScaler()\n",
    "ytrain_scaled = target_scaler.fit_transform(np.array(ytrain).reshape(-1,1))\n",
    "ytrain_scaled = pd.Series(ytrain_scaled.flatten(), name = 'SalePrice')"
   ]
  },
  {
   "cell_type": "code",
   "execution_count": 536,
   "metadata": {},
   "outputs": [],
   "source": [
    "# standardize the numerical variables\n",
    "scaler = StandardScaler()\n",
    "data_num_s = scaler.fit_transform(data_num)\n",
    "test_num_s = scaler.transform(test_num)\n",
    "\n",
    "#convert into dataframe\n",
    "data_num_s = pd.DataFrame(data_num_s, columns = num_vars)\n",
    "test_num_s = pd.DataFrame(test_num_s, columns = num_vars)"
   ]
  },
  {
   "cell_type": "code",
   "execution_count": 537,
   "metadata": {},
   "outputs": [],
   "source": [
    "#to keep the xtrain and ytrain row numbers same, we keep them together and then split them later\n",
    "\n",
    "data_num_s = pd.concat([data_num_s, ytrain_scaled], axis = 1)"
   ]
  },
  {
   "cell_type": "code",
   "execution_count": 538,
   "metadata": {},
   "outputs": [],
   "source": [
    "#one hot encode the categorical variables\n",
    "\n",
    "data_cat_dum = pd.get_dummies(data_cat, drop_first=True)\n",
    "test_cat_dum = pd.get_dummies(test_cat, drop_first = True)\n",
    "test_cat_dum.drop('MSSubClass_150', axis = 1, inplace = True) #this column is not present in train set\n"
   ]
  },
  {
   "cell_type": "markdown",
   "metadata": {},
   "source": [
    "## Feature Selection"
   ]
  },
  {
   "cell_type": "markdown",
   "metadata": {},
   "source": [
    "### SelectKBest"
   ]
  },
  {
   "cell_type": "code",
   "execution_count": 539,
   "metadata": {},
   "outputs": [
    {
     "data": {
      "text/plain": [
       "\"\\nchifeats = SelectKBest(score_func = chi2, k=10) #gives top 10 features with highest chi2 values using get_support()\\nbestfeatures = chifeats.fit(data_num,ytrain)\\nbestfeatures.scores_  #returns ALL columns with their chi2 scores\\n\\nbestfeats = pd.DataFrame({'cols': data_num.columns, 'scores': bestfeatures.scores_}) \\nbestfeats = bestfeats.nlargest(20, 'scores') #only 10 are selected\\n\\n\\nbfeats = list(bestfeats['cols']) #contains columns names\\ndata_num = data_num[bfeats]\\ntest_num = test_num[bfeats]\\n\""
      ]
     },
     "execution_count": 539,
     "metadata": {},
     "output_type": "execute_result"
    }
   ],
   "source": [
    "chifeats = SelectKBest(score_func = chi2, k=10) #gives top 10 features with highest chi2 values using get_support()\n",
    "bestfeatures = c hifeats.fit(data_num,ytrain)\n",
    "bestfeatures.scores_  #returns ALL columns with their chi2 scores\n",
    "\n",
    "bestfeats = pd.DataFrame({'cols': data_num.columns, 'scores': bestfeatures.scores_}) \n",
    "bestfeats = bestfeats.nlargest(20, 'scores') #only 10 are selected\n",
    "\n",
    "\n",
    "bfeats = list(bestfeats['cols']) #contains columns names\n",
    "data_num = data_num[bfeats]\n",
    "test_num = test_num[bfeats]"
   ]
  },
  {
   "cell_type": "markdown",
   "metadata": {},
   "source": [
    "### Correlation Matrix"
   ]
  },
  {
   "cell_type": "code",
   "execution_count": 540,
   "metadata": {},
   "outputs": [],
   "source": [
    "corr_feats = ['OverallQual','ExterQual','BsmtQual','BsmtFinSF1','TotalBsmtSF','1stFlrSF','GrLivArea','FullBath','KitchenQual','TotRmsAbvGrd','FireplaceQu','GarageCars','soldafter','houseage','Sinceremod']\n",
    "data_num = data_num[corr_feats]\n",
    "test_num = test_num[corr_feats]"
   ]
  },
  {
   "cell_type": "code",
   "execution_count": null,
   "metadata": {},
   "outputs": [],
   "source": [
    "# Transforming into a normal distribution\n",
    "\n",
    "skewness = skewness[abs(skewness) > 0.75]\n",
    "print(\"There are {} skewed numerical features to Box Cox transform\".format(skewness.shape[0]))\n",
    "\n",
    "from scipy.special import boxcox1p\n",
    "skewed_features = skewness.index\n",
    "lam = 0.15\n",
    "for feat in skewed_features:\n",
    "    #all_data[feat] += 1\n",
    "    all_data[feat] = boxcox1p(all_data[feat], lam)"
   ]
  },
  {
   "cell_type": "markdown",
   "metadata": {},
   "source": [
    "### Combine processed DataFrames"
   ]
  },
  {
   "cell_type": "code",
   "execution_count": 541,
   "metadata": {},
   "outputs": [],
   "source": [
    "# Concat the scaled and the dummies\n",
    "\n",
    "xtrain = pd.concat([data_num,data_cat_dum], axis = 1)\n",
    "\n",
    "\n",
    "#scaled numerical features are concatenated\n",
    "xtrain_scaled = pd.concat([data_num_s,data_cat_dum], axis = 1)\n",
    "xtrain_scaled = xtrain_scaled.iloc[:1451,:] #the last 9 values are NaN, only till 1451 is taken\n",
    "\n",
    "\n",
    "#get rid of remaining null values\n",
    "xtrain_scaled = xtrain_scaled.dropna(axis=0, subset=['remodone?'])\n",
    "\n",
    "#split xtrain and ytrain now\n",
    "ytrain_scaled = xtrain_scaled['SalePrice']\n",
    "xtrain_scaled.drop('SalePrice', axis = 1, inplace = True)\n",
    "\n",
    "\n",
    "\n",
    "#TEST SET\n",
    "xtest  = pd.concat([test_num,test_cat_dum], axis = 1)\n",
    "xtest_scaled  = pd.concat([test_num_s,test_cat_dum], axis = 1)\n"
   ]
  },
  {
   "cell_type": "markdown",
   "metadata": {},
   "source": [
    "## Models"
   ]
  },
  {
   "cell_type": "code",
   "execution_count": 542,
   "metadata": {},
   "outputs": [],
   "source": [
    "# Functions: Write to CSV\n",
    "def make_csv_lr(mdl,xt_scaled):\n",
    "    SalePrice = mdl.predict(xt_scaled)\n",
    "    SalePrice = target_scaler.inverse_transform(np.array(SalePrice).reshape(-1,1))\n",
    "    SalePrice = pd.Series(SalePrice.reshape(len(SalePrice),))\n",
    "    output = pd.DataFrame({'Id': test['Id'], 'SalePrice': SalePrice})\n",
    "    output.to_csv('linear.csv', index=False)\n",
    "\n",
    "    \n",
    "def make_csv(mdl,xtest):\n",
    "    SalePrice = mdl.predict(xtest)\n",
    "    output = pd.DataFrame({'Id': test['Id'], 'SalePrice': SalePrice})\n",
    "    output.to_csv('rf.csv', index=False)\n",
    "    "
   ]
  },
  {
   "cell_type": "code",
   "execution_count": 543,
   "metadata": {},
   "outputs": [
    {
     "data": {
      "text/plain": [
       "'\\nmodel = LinearRegression()\\nkfold = KFold(n_splits = 5, shuffle = True)\\nmodel.fit(xtrain_scaled, ytrain_scaled)\\nprint(\"LR: \",np.mean(cross_val_score(model, xtrain_scaled, ytrain_scaled, cv = kfold, scoring = \\'neg_root_mean_squared_error\\')))\\n\\nmake_csv_lr(model, xtest_scaled)\\n'"
      ]
     },
     "execution_count": 543,
     "metadata": {},
     "output_type": "execute_result"
    }
   ],
   "source": [
    "# Linear model\n",
    "\n",
    "model = LinearRegression()\n",
    "kfold = KFold(n_splits = 5, shuffle = True)\n",
    "model.fit(xtrain_scaled, ytrain_scaled)\n",
    "print(\"LR: \",np.mean(cross_val_score(model, xtrain_scaled, ytrain_scaled, cv = kfold, scoring = 'neg_root_mean_squared_error')))\n",
    "\n",
    "make_csv_lr(model, xtest_scaled)\n"
   ]
  },
  {
   "cell_type": "code",
   "execution_count": 544,
   "metadata": {},
   "outputs": [
    {
     "data": {
      "text/plain": [
       "'\\nrf = RandomForestRegressor(n_estimators = 500)\\nrf.fit(xtrain,ytrain)\\nkfold = KFold(n_splits = 5, shuffle = True)\\nprint(\"RF: \", np.mean(cross_val_score(rf, xtrain, ytrain, cv = kfold, scoring = \\'neg_root_mean_squared_error\\')))\\n\\nmake_csv(rf, xtest)\\n\\n'"
      ]
     },
     "execution_count": 544,
     "metadata": {},
     "output_type": "execute_result"
    }
   ],
   "source": [
    "# Random Forest\n",
    "\n",
    "rf = RandomForestRegressor(n_estimators = 500)\n",
    "rf.fit(xtrain,ytrain)\n",
    "kfold = KFold(n_splits = 5, shuffle = True)\n",
    "print(\"RF: \", np.mean(cross_val_score(rf, xtrain, ytrain, cv = kfold, scoring = 'neg_root_mean_squared_error')))\n",
    "\n",
    "make_csv(rf, xtest)\n"
   ]
  },
  {
   "cell_type": "code",
   "execution_count": 545,
   "metadata": {},
   "outputs": [
    {
     "name": "stdout",
     "output_type": "stream",
     "text": [
      "Fitting 5 folds for each of 10 candidates, totalling 50 fits\n"
     ]
    },
    {
     "name": "stderr",
     "output_type": "stream",
     "text": [
      "[Parallel(n_jobs=1)]: Using backend SequentialBackend with 1 concurrent workers.\n",
      "[Parallel(n_jobs=1)]: Done  50 out of  50 | elapsed: 12.3min finished\n"
     ]
    },
    {
     "name": "stdout",
     "output_type": "stream",
     "text": [
      "Grid search score is:  0.8672152287627857\n",
      "Grid search estimator:  RandomForestRegressor(criterion='mae', min_impurity_decrease=0.1,\n",
      "                      min_impurity_split=0.2, n_estimators=300)\n"
     ]
    }
   ],
   "source": [
    "#Hyperparameter Tuning: Grid Search\n",
    "\n",
    "rf_grid = RandomForestRegressor()\n",
    "params = {'n_estimators':[100,200,300,400,500], 'criterion': ['mse','mae'], 'max_depth':[20,30,40,50,60,None], \n",
    "          'max_features': ['auto', 'sqrt', 'log2'], 'min_impurity_decrease':[0.1,0.2], 'min_impurity_split':[0.1,0.2]}\n",
    "grid_model = RandomizedSearchCV(rf_grid, cv=5, param_distributions = params, scoring = 'r2', verbose = 1)\n",
    "grid_model.fit(xtrain,ytrain)\n",
    "\n",
    " \n",
    "print(\"Grid search score is: \", grid_model.best_score_)\n",
    "print(\"Grid search estimator: \", grid_model.best_estimator_)\n",
    "\n",
    "make_csv(grid_model, xtest)"
   ]
  },
  {
   "cell_type": "markdown",
   "metadata": {},
   "source": [
    "## THE END"
   ]
  }
 ],
 "metadata": {
  "kernelspec": {
   "display_name": "Python 3",
   "language": "python",
   "name": "python3"
  },
  "language_info": {
   "codemirror_mode": {
    "name": "ipython",
    "version": 3
   },
   "file_extension": ".py",
   "mimetype": "text/x-python",
   "name": "python",
   "nbconvert_exporter": "python",
   "pygments_lexer": "ipython3",
   "version": "3.7.3"
  }
 },
 "nbformat": 4,
 "nbformat_minor": 4
}
